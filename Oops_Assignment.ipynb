{
 "cells": [
  {
   "cell_type": "markdown",
   "metadata": {},
   "source": [
    "## Theory Questions Oops"
   ]
  },
  {
   "cell_type": "markdown",
   "metadata": {},
   "source": [
    "1. What is Object-Oriented Programming (OOP)?\n",
    " > Object-Oriented Programming (OOPs) is a programming paradigm that uses objects and classes to structure code efficiently. It allows developers to model real-world entities and interactions in a structured way. \n",
    "\n",
    "2. what is the class in oops?\n",
    " > A class is a blueprint for creating objects in oops. It defines the properties (attributes ) and behaviors (methods) that the objects created from the class will have. \n",
    "\n",
    "3. What is an object in oops?\n",
    " > An object is an instance of the class that contains data and methods defined in the class.\n",
    "\n",
    "4. What is the difference between abstraction and encapsulation?\n",
    " > Abstraction hides unneccesory details and show only essential features. but Encapsulation is protect data by resticting direct acess and bundling it with related methods.\n",
    "\n",
    "5. What are dunder methods in Python?\n",
    " > dunder methods are special methods which starts and ends with double underscore they enable built in functionality such as initilization string representsation etc. example is __init__() method\n",
    "\n",
    "6. Explain the concept of inheritance in OOP.\n",
    " > inheritance is a process for making childclass/subclass from existing parent class.It promotes reusability of code and helps in hierchical relationships betwin classes. there are many types of inheritance in oops eg. single level inheritance > means one paraent class A and one child class B(A) where B inherits parent class properties/methods as well as his class property/methods. another multilevel inheritance, multiple inheritance, hybrid inheritance and hierchical inheritance.\n",
    "\n",
    "7. What is polymorphism in OOP?\n",
    " > Polymorphism in OOP allows a single function, method, or operator to take on multiple forms. It enables different classes to define the same method but execute it in their own way.\n",
    "\n",
    "8. How is encapsulation achieved in Python?\n",
    " > Encapsulation in Python is achieved by restricting access to class attributes using access modifiers. eg. private variables > cannot accessed directly outside the class. and denoted by __ at the begining of variable name in methods. Protected variable denoted by _ before variable name intended for use within class and its subclasses. getter and setter method used to modify private variables secuerly.\n",
    "\n",
    "9. What is a constructor in Python?\n",
    " > A constructor in Python is a special method __init__() used to initialize objects when a class is instantiated. It allows you to set initial values for attributes and define behavior when an object is created.\n",
    "\n",
    "10. What are class and static methods in Python?\n",
    " > Class methods @classmethod use cls and can modify class-level attributes.Static methods @staticmethod don’t need self or cls and work independently.Both methods are defined inside a class but serve different purposes. Class methods can change shared class data, while static methods are utility functions.\n",
    "\n",
    "11. What is method overloading in Python?\n",
    " > Method Overloading in Python refers to defining multiple methods with the same name but different parameters. However, Python does not support true method overloading.\n",
    "\n",
    "12. What is method overriding in OOP?\n",
    " > Method Overriding in Object-Oriented Programming (OOP) allows a child class to modify or redefine a method inherited from its parent class. This enables a subclass to provide a customized implementation while keeping the same method name.\n",
    "\n",
    "13. What is a property decorator in Python?\n",
    " > the @property decorator is used to define getter methods for a class attribute, allowing it to be accessed like a property instead of a method call. It helps implement encapsulation, restricting direct access to variables while providing controlled access.\n",
    "\n",
    "14. Why is polymorphism important in OOP?\n",
    " Code Reusability > Allows the same interface to be used for different types, reducing redundancy. Maintainability > Makes the code more structured and easier to extend or modify. Dynamic Behavior > Supports runtime polymorphism, enabling dynamic method execution. Encapsulation & Abstraction > Works with other OOP principles to provide a clean and logical design.\n",
    "\n",
    "15. What is an abstract class in Python?\n",
    " > An abstract class in Python is a class that cannot be instantiated directly and serves as a blueprint for subclasses. It is used to define abstract methods, which must be implemented by child classes.\n",
    "\n",
    "16. What are the advantages of OOP?\n",
    " > Object-Oriented Programming (OOP) offers several advantages that make software development efficient, modular, and scalable. It makes code reusable, protect data and ensures control acess and make code easy to update and maintain.\n",
    "\n",
    "17. What is the difference between a class variable and an instance variable\n",
    " > class variable is defined in the class it can not chage every times its same but instance variable is defined by the object and this will be change when difine a new object so this is object/ instance variable.\n",
    "\n",
    "18. What is multiple inheritance in Python?\n",
    " > one derived class has been creating using more than one parent classes this is called multiple inheritance.\n",
    "\n",
    "19. Explain the purpose of ‘’__str__’ and ‘__repr__’ ‘ methods in Python?\n",
    " > __str__  method in Python is used to define a string representation of an object that is intended for end-users but __repr__ method used to define a string representation of an object that is meant for developers rather than end-users.\n",
    "\n",
    "20. What is the significance of the ‘super()’ function in Python?\n",
    " > The  function in Python allows child classes to call methods from their parent classes, ensuring code reusability and avoiding redundant method definitions. \n",
    "\n",
    "21. What is the significance of the __del__ method in Python?\n",
    " > The  method in Python is a special method called when an object is about to be destroyed, typically when it goes out of scope or its reference count drops to zero. \n",
    "\n",
    "22. What is the difference between @staticmethod and @classmethod in Python?\n",
    " >  @staticmethod defines a method that doesn't access instance or class attributes, making it independent of the class structure.it is used for utility functions. but  @classmethod takes cls as its first argument, allowing it to modify class-level attributes and behavior. it is used when a method needs access to class-specific data.\n",
    "\n",
    "23. How does polymorphism work in Python with inheritance?\n",
    " > Polymorphism in Python allows different classes to share methods with the same name, enabling flexibility and code reuse. When used with inheritance, child classes can override or extend parent methods while maintaining a consistent interface. This ensures that different objects can be treated interchangeably, improving code maintainability. \n",
    "\n",
    "24. What is method chaining in Python OOP?\n",
    " > It is a technique where multiple methods are called on the same object in a single statement. This is achieved by returning  from each method so that the next method can be invoked on the same instance.\n",
    "\n",
    "25. What is the purpose of the __call__ method in Python?\n",
    " > Ir allows an instance of a class to be called as if it were a function. When an object has a __call__ method, invoking the object using parentheses executes the method, making instances behave like functions"
   ]
  },
  {
   "cell_type": "markdown",
   "metadata": {},
   "source": [
    "## Practical Questions \n"
   ]
  },
  {
   "cell_type": "code",
   "execution_count": null,
   "metadata": {},
   "outputs": [
    {
     "name": "stdout",
     "output_type": "stream",
     "text": [
      "Bark!\n"
     ]
    }
   ],
   "source": [
    "# 1. Create a parent class Animal with a method speak() that prints a generic message. Create a child class Dog \n",
    "# that overrides the speak() method to print \"Bark!\".\n",
    "\n",
    "class Animal:\n",
    "    def speak(self):\n",
    "        print(\"This animal makes a sound.\")\n",
    "\n",
    "class Dog(Animal):\n",
    "    def speak(self):\n",
    "        print(\"Bark!\")\n",
    "\n",
    "a = Dog()\n",
    "a.speak()"
   ]
  },
  {
   "cell_type": "code",
   "execution_count": null,
   "metadata": {},
   "outputs": [
    {
     "name": "stdout",
     "output_type": "stream",
     "text": [
      "78.5\n",
      "200\n"
     ]
    }
   ],
   "source": [
    "# 2. Write a program to create an abstract class Shape with a method area(). Derive classes Circle and Rectangle \n",
    "# from it and implement the area() method in both.\n",
    "\n",
    "from abc import ABC, abstractmethod\n",
    "\n",
    "class Shape(ABC):\n",
    "    @abstractmethod\n",
    "    def area(self):\n",
    "        pass\n",
    "\n",
    "class Circle(Shape):\n",
    "    def __init__(self, radius):\n",
    "        self.radius = radius\n",
    "\n",
    "    def area(self):\n",
    "        radius = self.radius\n",
    "        return 3.14 * radius * radius\n",
    "    \n",
    "class Rectangle(Shape):\n",
    "    def __init__(self, length,breadth):\n",
    "        self.length = length\n",
    "        self.breadth = breadth\n",
    "\n",
    "    def area(self):\n",
    "        length = self.length\n",
    "        breadth = self.breadth\n",
    "        return length * breadth\n",
    "        \n",
    "\n",
    "ca = Circle(5)\n",
    "print(ca.area())\n",
    "\n",
    "ra = Rectangle(10,20)\n",
    "print(ra.area())"
   ]
  },
  {
   "cell_type": "code",
   "execution_count": 15,
   "metadata": {},
   "outputs": [
    {
     "name": "stdout",
     "output_type": "stream",
     "text": [
      "This is a vehical info\n",
      "This is car info\n",
      "This is electric car info\n",
      "This is battery info of electric car\n"
     ]
    }
   ],
   "source": [
    "# 3. Implement a multi-level inheritance scenario where a class Vehicle has an attribute type. Derive a class Car \n",
    "# and further derive a class ElectricCar that adds a battery attribute.\n",
    "\n",
    "class Vehicle:\n",
    "    def __init__(self, type):\n",
    "        self.type = type\n",
    "\n",
    "    def vehicle_info(self):\n",
    "        print(f\"This is a {self.type} vehicle.\")\n",
    "\n",
    "class Car(Vehicle):\n",
    "    def __init__(self, type, brand):\n",
    "        super().__init__(type)\n",
    "        self.brand = brand\n",
    "\n",
    "    def car_info(self):\n",
    "        print(f\"This is a {self.brand} car.\")\n",
    "\n",
    "class ElectricCar(Car):\n",
    "    def __init__(self, type, brand, battery_capacity):\n",
    "        super().__init__(type, brand)\n",
    "        self.battery_capacity = battery_capacity\n",
    "\n",
    "    def electric_car_info(self):\n",
    "        print(f\"This electric car has a battery capacity of {self.battery_capacity} kWh.\")\n",
    "\n",
    "# Creating an object of ElectricCar\n",
    "ele_car = ElectricCar(\"Electric\", \"Tesla\", 75)\n",
    "ele_car.vehicle_info()\n",
    "ele_car.car_info()\n",
    "ele_car.electric_car_info()"
   ]
  },
  {
   "cell_type": "code",
   "execution_count": null,
   "metadata": {},
   "outputs": [
    {
     "name": "stdout",
     "output_type": "stream",
     "text": [
      "This is fly method of class sparrow\n",
      "This is fly method of class Penguin\n",
      "This is fly method of class Bird\n"
     ]
    }
   ],
   "source": [
    "# 4. Demonstrate polymorphism by creating a base class Bird with a method fly(). Create two derived classes \n",
    "# Sparrow and Penguin that override the fly() method\n",
    "\n",
    "class Bird:\n",
    "    def fly(self):\n",
    "        print(\"Bird can fly\")\n",
    "\n",
    "class Sparrow(Bird):\n",
    "    def fly(self):\n",
    "        print(\"Sparrow can fly\")\n",
    "\n",
    "class Penguin(Bird):\n",
    "    def fly(self):\n",
    "        print(\"Penguins can't fly but they swim\")\n",
    "\n",
    "sparrow = Sparrow()\n",
    "sparrow.fly()\n",
    "\n",
    "penguin = Penguin()\n",
    "penguin.fly()\n",
    "\n",
    "bird = Bird()\n",
    "bird.fly()"
   ]
  },
  {
   "cell_type": "code",
   "execution_count": 65,
   "metadata": {},
   "outputs": [
    {
     "name": "stdout",
     "output_type": "stream",
     "text": [
      "Your account has been credited 10000\n",
      "Your account Balance = 10000\n",
      "Your account has been debited 500\n",
      "Your account Balance = 9500\n"
     ]
    }
   ],
   "source": [
    "# 5. Write a program to demonstrate encapsulation by creating a class BankAccount with private attributes \n",
    "# balance and methods to deposit, withdraw, and check balance.\n",
    "\n",
    "class BankAccount:\n",
    "    def __init__(self, balance=0):\n",
    "        self.__balance = balance\n",
    "\n",
    "    def deposit(self,amount):\n",
    "        if amount > 0:\n",
    "            self.__balance += amount\n",
    "            return f\"Your account has been credited {amount}\"\n",
    "        else:\n",
    "            return \"Deposit amount must be greter than 0\"\n",
    "    def withdraw(self,amount):\n",
    "        if 0 < amount <= self.__balance:\n",
    "            self.__balance -= amount\n",
    "            return f\"Your account has been debited {amount}\"\n",
    "        else:\n",
    "            return \"Withdraw amount must be less than account and greter than 0\"\n",
    "    def check_balance(self):\n",
    "        return f\"Your account Balance = {self.__balance}\"\n",
    "    \n",
    "b = BankAccount()\n",
    "print(b.deposit(10000))\n",
    "print(b.check_balance())\n",
    "print(b.withdraw(500))\n",
    "print(b.check_balance())"
   ]
  },
  {
   "cell_type": "code",
   "execution_count": null,
   "metadata": {},
   "outputs": [],
   "source": [
    "# 6. Demonstrate runtime polymorphism using a method play() in a base class Instrument. Derive classes Guitar \n",
    "# and Piano that implement their own version of play().\n",
    "\n",
    "class Instrument:\n",
    "    def play(self):\n",
    "        print(\"An instrument is being played.\")\n",
    "\n",
    "class Guitar(Instrument):\n",
    "    def play(self):\n",
    "        print(\"Playing the guitar: Strumming the strings!\")\n",
    "\n",
    "class Piano(Instrument):\n",
    "    def play(self):\n",
    "        print(\"Playing the piano: Pressing the keys!\")\n",
    "\n",
    "def perform(instrument):\n",
    "    instrument.play()\n",
    "\n",
    "guitar = Guitar()\n",
    "piano = Piano()\n",
    "\n",
    "perform(guitar)\n",
    "perform(piano)\n",
    "    \n"
   ]
  },
  {
   "cell_type": "code",
   "execution_count": null,
   "metadata": {},
   "outputs": [
    {
     "name": "stdout",
     "output_type": "stream",
     "text": [
      "10\n",
      "26\n"
     ]
    }
   ],
   "source": [
    "# 7. Create a class MathOperations with a class method add_numbers() to add two numbers and a static \n",
    "# method subtract_numbers() to subtract two numbers.\n",
    "\n",
    "class MathOperation:\n",
    "    @classmethod\n",
    "    def add_numbers(cls,a,b):\n",
    "        return a + b\n",
    "    @staticmethod\n",
    "    def subtract_numbers(a,b):\n",
    "        return a - b\n",
    "    \n",
    "mathops = MathOperation()\n",
    "print(mathops.add_numbers(4,6))\n",
    "print(mathops.subtract_numbers(50,24))\n",
    "\n",
    "        "
   ]
  },
  {
   "cell_type": "code",
   "execution_count": null,
   "metadata": {},
   "outputs": [
    {
     "name": "stdout",
     "output_type": "stream",
     "text": [
      "1\n",
      "2\n"
     ]
    }
   ],
   "source": [
    "# 8. Implement a class Person with a class method to count the total number of persons created.\n",
    "\n",
    "class Person:\n",
    "    total_person = 0 \n",
    "    \n",
    "    def __init__(self, name):\n",
    "        self.name = name\n",
    "        Person.total_person += 1  \n",
    "\n",
    "    @classmethod\n",
    "    def get_total_persons(cls):\n",
    "        return f\"Total persons created: {cls.total_person}\"\n",
    "\n",
    "a = Person(\"Ajay\")\n",
    "print(Person.get_total_persons())  \n",
    "\n",
    "b = Person(\"Suraj\")\n",
    "print(Person.get_total_persons()) "
   ]
  },
  {
   "cell_type": "code",
   "execution_count": 66,
   "metadata": {},
   "outputs": [
    {
     "name": "stdout",
     "output_type": "stream",
     "text": [
      "40/8\n"
     ]
    }
   ],
   "source": [
    "# 9. Write a class Fraction with attributes numerator and denominator. Override the str method to display the \n",
    "# fraction as \"numerator/denominator\".\n",
    "\n",
    "class Fraction:\n",
    "\n",
    "    def __init__(self,numerator,denominator):\n",
    "        self.numerator = numerator\n",
    "        self.denominator = denominator\n",
    "\n",
    "    def __str__(self):\n",
    "        return f\"{self.numerator}/{self.denominator}\"\n",
    "    \n",
    "a = Fraction(40,8)\n",
    "print(a)"
   ]
  },
  {
   "cell_type": "code",
   "execution_count": 67,
   "metadata": {},
   "outputs": [
    {
     "name": "stdout",
     "output_type": "stream",
     "text": [
      "Vector(7, 9)\n"
     ]
    }
   ],
   "source": [
    "# 10. Demonstrate operator overloading by creating a class Vector and overriding the add method to add two \n",
    "# vectors.\n",
    "\n",
    "class Vector:\n",
    "    def __init__(self, x, y):\n",
    "        self.x = x\n",
    "        self.y = y\n",
    "\n",
    "    def __add__(self, other):\n",
    "        return Vector(self.x + other.x, self.y + other.y)\n",
    "\n",
    "    def __str__(self):\n",
    "        return f\"Vector({self.x}, {self.y})\"\n",
    "\n",
    "v1 = Vector(5, 6)\n",
    "v2 = Vector(2, 3)\n",
    "\n",
    "result = v1 + v2\n",
    "print(result)  \n",
    "    "
   ]
  },
  {
   "cell_type": "code",
   "execution_count": 43,
   "metadata": {},
   "outputs": [
    {
     "name": "stdout",
     "output_type": "stream",
     "text": [
      "Hello, my name is Ajay and I am 36 years old.\n",
      "Hello, my name is Ramesh and I am 20 years old.\n"
     ]
    }
   ],
   "source": [
    "# 11. Create a class Person with attributes name and age. Add a method greet() that prints \"Hello, my name is \n",
    "# {name} and I am {age} years old.\"\n",
    "\n",
    "class Person:\n",
    "\n",
    "    def __init__(self,name,age):\n",
    "        self.name = name\n",
    "        self.age = age\n",
    "\n",
    "    def greet(self):\n",
    "        print(f\"Hello, my name is {self.name} and I am {self.age} years old.\")\n",
    "    \n",
    "a = Person(\"Ajay\",36)\n",
    "a.greet()\n",
    "b = Person(\"Ramesh\",20)\n",
    "b.greet()"
   ]
  },
  {
   "cell_type": "code",
   "execution_count": 51,
   "metadata": {},
   "outputs": [
    {
     "name": "stdout",
     "output_type": "stream",
     "text": [
      "The avg of the Grades is  85.28571428571429\n",
      "75.0\n"
     ]
    }
   ],
   "source": [
    "# 12. Implement a class Student with attributes name and grades. Create a method average_grade() to compute \n",
    "# the average of the grades\n",
    "\n",
    "class Student:\n",
    "\n",
    "    def __init__(self,name,grades):\n",
    "        self.name = name\n",
    "        self.grades = grades\n",
    "        \n",
    "    def avg_grade(self):\n",
    "        sum = 0\n",
    "        for i in self.grades:\n",
    "            sum += i\n",
    "\n",
    "        avg = sum/len(self.grades)\n",
    "        return avg\n",
    "    \n",
    "a = Student(\"Ramesh\",[95,87,85,94,82,64,90])\n",
    "print(\"The avg of the Grades is \",a.avg_grade())\n",
    "\n",
    "b = Student(\"Rohit\",[100,50])\n",
    "print(b.avg_grade())\n"
   ]
  },
  {
   "cell_type": "code",
   "execution_count": 53,
   "metadata": {},
   "outputs": [
    {
     "data": {
      "text/plain": [
       "2000"
      ]
     },
     "execution_count": 53,
     "metadata": {},
     "output_type": "execute_result"
    }
   ],
   "source": [
    "# 13. Create a class Rectangle with methods set_dimensions() to set the dimensions and area() to calculate the \n",
    "# area.\n",
    "\n",
    "class Rectangle:\n",
    "    def set_dimensions(self,length,bredth):\n",
    "        self.length = length\n",
    "        self.bredth = bredth\n",
    "\n",
    "    def area(self):\n",
    "        return self.length * self.bredth\n",
    "    \n",
    "a = Rectangle()\n",
    "a.set_dimensions(100,20)\n",
    "a.area()"
   ]
  },
  {
   "cell_type": "code",
   "execution_count": null,
   "metadata": {},
   "outputs": [],
   "source": [
    "# 14. Create a class Employee with a method calculate_salary() that computes the salary based on hours worked \n",
    "# and hourly rate. Create a derived class Manager that adds a bonus to the salary\n",
    "\n",
    "class Employee:\n",
    "    def __init__(self, work_hour, hour_rate):\n",
    "        self.working_hour = work_hour\n",
    "        self.hourly_rate = hour_rate\n",
    "\n",
    "    def calculate_salary(self):\n",
    "        return self.working_hour * self.hourly_rate\n",
    "\n",
    "class Manager(Employee):\n",
    "    def __init__(self, work_hour, hour_rate, bonus_percentage):\n",
    "        super().__init__(work_hour, hour_rate)\n",
    "        self.bonus_percentage = bonus_percentage  \n",
    "\n",
    "    def calculate_salary(self):\n",
    "        base_salary = super().calculate_salary()\n",
    "        bonus = base_salary * (self.bonus_percentage / 100) \n",
    "        return base_salary + bonus  \n",
    "\n",
    "emp = Employee(160, 50)  \n",
    "print(f\"Employee Salary: {emp.calculate_salary()}\")\n",
    "\n",
    "mgr = Manager(160, 50, 5)  \n",
    "print(f\"Manager Salary: {mgr.calculate_salary()}\")\n"
   ]
  },
  {
   "cell_type": "code",
   "execution_count": 56,
   "metadata": {},
   "outputs": [
    {
     "data": {
      "text/plain": [
       "40"
      ]
     },
     "execution_count": 56,
     "metadata": {},
     "output_type": "execute_result"
    }
   ],
   "source": [
    "# 15. Create a class Product with attributes name, price, and quantity. Implement a method total_price() that \n",
    "# calculates the total price of the product.\n",
    "\n",
    "class Product:\n",
    "    \n",
    "    def __init__(self,name,price,quantity):\n",
    "        self.name = name\n",
    "        self.price = price\n",
    "        self.quantity = quantity\n",
    "\n",
    "    def total_price(self):\n",
    "        total = self.price * self.quantity\n",
    "        return total \n",
    "    \n",
    "\n",
    "a = Product(\"chips\",10,4)\n",
    "a.total_price()"
   ]
  },
  {
   "cell_type": "code",
   "execution_count": null,
   "metadata": {},
   "outputs": [
    {
     "name": "stdout",
     "output_type": "stream",
     "text": [
      "Moooo!\n",
      "Baaa!\n"
     ]
    }
   ],
   "source": [
    "# 16. Create a class Animal with an abstract method sound(). Create two derived classes Cow and Sheep that \n",
    "# implement the sound() method.\n",
    "\n",
    "import abc\n",
    "\n",
    "class Animal(abc.ABC):  \n",
    "    @abc.abstractmethod\n",
    "    def sound(self):  \n",
    "        pass\n",
    "\n",
    "class Cow(Animal):\n",
    "    def sound(self):\n",
    "        print(\"Moooo!\")\n",
    "\n",
    "class Sheep(Animal):\n",
    "    def sound(self):\n",
    "        print(\"Baaa!\")\n",
    "\n",
    "cow = Cow()\n",
    "cow.sound()\n",
    "\n",
    "sheep = Sheep()\n",
    "sheep.sound()"
   ]
  },
  {
   "cell_type": "code",
   "execution_count": 64,
   "metadata": {},
   "outputs": [
    {
     "name": "stdout",
     "output_type": "stream",
     "text": [
      "The Name of the Book is \"Atomic Habits\", the Authour of Book is \"James Clear\" and Year of publication is '2018'\n"
     ]
    }
   ],
   "source": [
    "# 17. Create a class Book with attributes title, author, and year_published. Add a method get_book_info() that \n",
    "# returns a formatted string with the book's details.\n",
    "\n",
    "class Book:\n",
    "    def __init__(self,title, author, year_published):\n",
    "        self.title = title\n",
    "        self.author = author\n",
    "        self.year_published = year_published\n",
    "\n",
    "    def get_book_info(self):\n",
    "        return f\"The Name of the Book is \\\"{self.title}\\\", the Authour of Book is \\\"{self.author}\\\" and Year of publication is '{self.year_published}'\"\n",
    "    \n",
    "book = Book(\"Atomic Habits\",\"James Clear\",2018)\n",
    "print(book.get_book_info())\n",
    "        "
   ]
  },
  {
   "cell_type": "code",
   "execution_count": 68,
   "metadata": {},
   "outputs": [
    {
     "name": "stdout",
     "output_type": "stream",
     "text": [
      "Hadapsar,Pune\n",
      "5000000\n",
      "4\n"
     ]
    }
   ],
   "source": [
    "# 18. Create a class House with attributes address and price. Create a derived class Mansion that adds an \n",
    "# attribute number_of_rooms.\n",
    "\n",
    "class House:\n",
    "    def __init__(self,adress,price):\n",
    "        self.adress = adress\n",
    "        self.price = price\n",
    "\n",
    "class Mansion(House):\n",
    "    def __init__(self, adress, price, room):\n",
    "        super().__init__(adress, price)\n",
    "        self.number_of_rooms = room\n",
    "\n",
    "a = Mansion(\"Hadapsar,Pune\",5000000,4)\n",
    "print(a.adress)\n",
    "print(a.price)\n",
    "print(a.number_of_rooms)"
   ]
  },
  {
   "cell_type": "code",
   "execution_count": null,
   "metadata": {},
   "outputs": [],
   "source": []
  }
 ],
 "metadata": {
  "kernelspec": {
   "display_name": "Python 3",
   "language": "python",
   "name": "python3"
  },
  "language_info": {
   "codemirror_mode": {
    "name": "ipython",
    "version": 3
   },
   "file_extension": ".py",
   "mimetype": "text/x-python",
   "name": "python",
   "nbconvert_exporter": "python",
   "pygments_lexer": "ipython3",
   "version": "3.13.2"
  }
 },
 "nbformat": 4,
 "nbformat_minor": 2
}
